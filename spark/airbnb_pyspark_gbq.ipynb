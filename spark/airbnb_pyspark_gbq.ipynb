{
 "cells": [
  {
   "cell_type": "code",
   "execution_count": 1,
   "id": "a23db87f",
   "metadata": {},
   "outputs": [],
   "source": [
    "from pyspark.sql import SparkSession\n",
    "from pyspark.sql import functions as F\n",
    "from pyspark.sql.functions import udf, col\n",
    "from pyspark.sql.functions import avg\n",
    "from pyspark.sql.types import FloatType\n",
    "from pyspark.conf import SparkConf\n",
    "from pyspark.context import SparkContext"
   ]
  },
  {
   "cell_type": "code",
   "execution_count": 2,
   "id": "2425701e",
   "metadata": {},
   "outputs": [],
   "source": [
    "credentials_location = '/home/sal/git/data-engineering-capstone/spark/keys/my-creds.json'"
   ]
  },
  {
   "cell_type": "code",
   "execution_count": 3,
   "id": "29ca9b26",
   "metadata": {},
   "outputs": [],
   "source": [
    "GCS_connector = \"/home/sal/git/data-engineering-capstone/spark/lib/gcs-connector-hadoop3-2.2.5.jar\" \n",
    "GBQ_connector = \"/home/sal/git/data-engineering-capstone/spark/lib/spark-3.3-bigquery-0.36.1.jar\"\n",
    "conf_jars = f\"{GCS_connector},{GBQ_connector}\""
   ]
  },
  {
   "cell_type": "code",
   "execution_count": 4,
   "id": "b7e8861c",
   "metadata": {},
   "outputs": [],
   "source": [
    "temp_GCS_Bucket = \"airbnb-data-lake\"\n",
    "bucket_name = \"airbnb-data-lake\""
   ]
  },
  {
   "cell_type": "code",
   "execution_count": 5,
   "id": "1ad262d9",
   "metadata": {},
   "outputs": [],
   "source": [
    "conf = SparkConf() \\\n",
    "    .setMaster('local[*]') \\\n",
    "    .setAppName('airbnb') \\\n",
    "    .set(\"spark.jars\", conf_jars) \\\n",
    "    .set(\"spark.hadoop.google.cloud.auth.service.account.enable\", \"true\") \\\n",
    "    .set(\"spark.hadoop.google.cloud.auth.service.account.json.keyfile\", credentials_location) \\\n",
    "    .set(\"temporaryGcsBucket\",temp_GCS_Bucket)"
   ]
  },
  {
   "cell_type": "code",
   "execution_count": 6,
   "id": "c471b5e5",
   "metadata": {},
   "outputs": [
    {
     "name": "stderr",
     "output_type": "stream",
     "text": [
      "Warning: Ignoring non-Spark config property: temporaryGcsBucket\n",
      "24/04/15 19:14:52 WARN NativeCodeLoader: Unable to load native-hadoop library for your platform... using builtin-java classes where applicable\n",
      "Setting default log level to \"WARN\".\n",
      "To adjust logging level use sc.setLogLevel(newLevel). For SparkR, use setLogLevel(newLevel).\n"
     ]
    }
   ],
   "source": [
    "sc = SparkContext(conf=conf)"
   ]
  },
  {
   "cell_type": "code",
   "execution_count": 7,
   "id": "2bc87412",
   "metadata": {},
   "outputs": [],
   "source": [
    "hadoop_conf = sc._jsc.hadoopConfiguration()"
   ]
  },
  {
   "cell_type": "code",
   "execution_count": 8,
   "id": "7175d122",
   "metadata": {},
   "outputs": [],
   "source": [
    "hadoop_conf.set(\"fs.AbstractFileSystem.gs.impl\",  \"com.google.cloud.hadoop.fs.gcs.GoogleHadoopFS\")\n",
    "hadoop_conf.set(\"fs.gs.impl\", \"com.google.cloud.hadoop.fs.gcs.GoogleHadoopFileSystem\")\n",
    "hadoop_conf.set(\"fs.gs.auth.service.account.json.keyfile\", credentials_location)\n",
    "hadoop_conf.set(\"fs.gs.auth.service.account.enable\", \"true\")"
   ]
  },
  {
   "cell_type": "code",
   "execution_count": 9,
   "id": "5a205afc",
   "metadata": {},
   "outputs": [],
   "source": [
    "spark = SparkSession.builder \\\n",
    "    .config(conf=sc.getConf()) \\\n",
    "    .getOrCreate()"
   ]
  },
  {
   "cell_type": "code",
   "execution_count": 10,
   "id": "c3fcb675",
   "metadata": {},
   "outputs": [],
   "source": [
    "df = spark.read.format('bigquery') \\\n",
    "  .option('parentProject', 'airbnb-de-project') \\\n",
    "  .option(\"table\", \"airbnb-de-project.airbnb_dw.airbnb_data\") \\\n",
    "  .load()"
   ]
  },
  {
   "cell_type": "code",
   "execution_count": 11,
   "id": "892f7869",
   "metadata": {},
   "outputs": [
    {
     "name": "stdout",
     "output_type": "stream",
     "text": [
      "root\n",
      " |-- listing_id: long (nullable = true)\n",
      " |-- host_id: long (nullable = true)\n",
      " |-- host_since: string (nullable = true)\n",
      " |-- host_response_rate: double (nullable = true)\n",
      " |-- host_is_superhost: string (nullable = true)\n",
      " |-- host_total_listings_count: long (nullable = true)\n",
      " |-- host_has_profile_pic: string (nullable = true)\n",
      " |-- host_identity_verified: string (nullable = true)\n",
      " |-- neighbourhood: string (nullable = true)\n",
      " |-- district: string (nullable = true)\n",
      " |-- city: string (nullable = true)\n",
      " |-- latitude: double (nullable = true)\n",
      " |-- longitude: double (nullable = true)\n",
      " |-- property_type: string (nullable = true)\n",
      " |-- room_type: string (nullable = true)\n",
      " |-- accommodates: long (nullable = true)\n",
      " |-- bedrooms: long (nullable = true)\n",
      " |-- price: long (nullable = true)\n",
      " |-- review_scores_rating: long (nullable = true)\n",
      " |-- review_scores_accuracy: long (nullable = true)\n",
      " |-- review_scores_cleanliness: long (nullable = true)\n",
      " |-- review_scores_checkin: long (nullable = true)\n",
      " |-- review_scores_communication: long (nullable = true)\n",
      " |-- review_scores_location: long (nullable = true)\n",
      " |-- review_scores_value: long (nullable = true)\n",
      " |-- price_usd: double (nullable = true)\n",
      " |-- review_id: long (nullable = true)\n",
      " |-- reviewer_id: long (nullable = true)\n",
      " |-- review_date: string (nullable = true)\n",
      " |-- listing_review_count: long (nullable = true)\n",
      "\n"
     ]
    }
   ],
   "source": [
    "df.printSchema()"
   ]
  },
  {
   "cell_type": "code",
   "execution_count": 12,
   "id": "5559c65e",
   "metadata": {},
   "outputs": [
    {
     "name": "stderr",
     "output_type": "stream",
     "text": [
      "24/04/15 19:16:35 WARN SparkStringUtils: Truncated the string representation of a plan since it was too large. This behavior can be adjusted by setting 'spark.sql.debug.maxToStringFields'.\n",
      "                                                                                \r"
     ]
    },
    {
     "name": "stdout",
     "output_type": "stream",
     "text": [
      "+----------+---------+----------------+------------------+-----------------+-------------------------+--------------------+----------------------+-------------+--------+--------------+---------+---------+--------------------+------------+------------+--------+-----+--------------------+----------------------+-------------------------+---------------------+---------------------------+----------------------+-------------------+---------+---------+-----------+----------------+--------------------+\n",
      "|listing_id|  host_id|      host_since|host_response_rate|host_is_superhost|host_total_listings_count|host_has_profile_pic|host_identity_verified|neighbourhood|district|          city| latitude|longitude|       property_type|   room_type|accommodates|bedrooms|price|review_scores_rating|review_scores_accuracy|review_scores_cleanliness|review_scores_checkin|review_scores_communication|review_scores_location|review_scores_value|price_usd|review_id|reviewer_id|     review_date|listing_review_count|\n",
      "+----------+---------+----------------+------------------+-----------------+-------------------------+--------------------+----------------------+-------------+--------+--------------+---------+---------+--------------------+------------+------------+--------+-----+--------------------+----------------------+-------------------------+---------------------+---------------------------+----------------------+-------------------+---------+---------+-----------+----------------+--------------------+\n",
      "|  37200137| 77212938|2018-06-12T00:00|               1.0|                t|                        2|                   t|                     t|          Joa|    NULL|Rio de Janeiro|-23.01489|-43.29168|  Entire condominium|Entire place|           6|       3|  480|                 100|                    10|                       10|                   10|                         10|                    10|                 10|     96.0|607725284|  107166188|2022-02-18T00:00|                  44|\n",
      "|   1792409|  9403945|2015-10-13T00:00|               1.0|                t|                        1|                   t|                     t|          Joa|    NULL|Rio de Janeiro|  -23.014|-43.29163|  Entire condominium|Entire place|           8|       4| 1000|                  98|                    10|                        9|                   10|                         10|                    10|                 10|    200.0|570395343|   75206771|2021-11-29T00:00|                  63|\n",
      "|  25533793| 25815097|2017-01-08T00:00|               1.0|                t|                        1|                   t|                     t|          Joa|    NULL|Rio de Janeiro|-23.01264|-43.29111|        Entire house|Entire place|          12|       4| 1254|                  98|                    10|                        9|                   10|                         10|                    10|                  9|    250.8|444997299|   39699363|2021-04-28T00:00|                  71|\n",
      "|  25533793| 25815097|2017-01-08T00:00|               1.0|                t|                        1|                   t|                     t|          Joa|    NULL|Rio de Janeiro|-23.01264|-43.29111|        Entire house|Entire place|          12|       4| 1254|                  98|                    10|                        9|                   10|                         10|                    10|                  9|    250.8|477091542|   53832258|2021-06-27T00:00|                  71|\n",
      "|  25533793| 25815097|2017-01-08T00:00|               1.0|                t|                        1|                   t|                     t|          Joa|    NULL|Rio de Janeiro|-23.01264|-43.29111|        Entire house|Entire place|          12|       4| 1254|                  98|                    10|                        9|                   10|                         10|                    10|                  9|    250.8|350816081|  222597126|2020-11-20T00:00|                  71|\n",
      "|  25533793| 25815097|2017-01-08T00:00|               1.0|                t|                        1|                   t|                     t|          Joa|    NULL|Rio de Janeiro|-23.01264|-43.29111|        Entire house|Entire place|          12|       4| 1254|                  98|                    10|                        9|                   10|                         10|                    10|                  9|    250.8|622468593|  132369278|2022-04-15T00:00|                  71|\n",
      "|  25533793| 25815097|2017-01-08T00:00|               1.0|                t|                        1|                   t|                     t|          Joa|    NULL|Rio de Janeiro|-23.01264|-43.29111|        Entire house|Entire place|          12|       4| 1254|                  98|                    10|                        9|                   10|                         10|                    10|                  9|    250.8|471930637|  137533799|2021-06-18T00:00|                  71|\n",
      "|  25533793| 25815097|2017-01-08T00:00|               1.0|                t|                        1|                   t|                     t|          Joa|    NULL|Rio de Janeiro|-23.01264|-43.29111|        Entire house|Entire place|          12|       4| 1254|                  98|                    10|                        9|                   10|                         10|                    10|                  9|    250.8|336641037|  127542733|2020-10-14T00:00|                  71|\n",
      "|  40532639|301071932|2021-10-08T00:00|               0.9|                f|                        2|                   t|                     t|          Joa|    NULL|Rio de Janeiro|-23.01346|-43.29173|  Entire condominium|Entire place|           6|       3| 1500|                 100|                    10|                       10|                   10|                         10|                    10|                  9|    300.0|723398493|   83800620|2023-01-10T00:00|                   3|\n",
      "|  25673391|193270591|2020-06-03T00:00|              0.97|                f|                        3|                   t|                     t|          Joa|    NULL|Rio de Janeiro|-23.01033|-43.28817|        Entire villa|Entire place|          12|       6| 6500|                  96|                    10|                        9|                   10|                         10|                    10|                  8|   1300.0|357037707|   13695014|2020-12-09T00:00|                   6|\n",
      "|   2798890| 14315601|2016-04-15T00:00|              0.76|                f|                       50|                   t|                     t|          Joa|    NULL|Rio de Janeiro|-23.01247| -43.2889|        Entire house|Entire place|          15|       6| 5000|                  91|                     9|                        8|                   10|                         10|                    10|                  9|   1000.0|577441944|   11045739|2021-12-15T00:00|                  10|\n",
      "|  16841094| 14315601|2016-04-15T00:00|              0.76|                f|                       50|                   t|                     t|          Joa|    NULL|Rio de Janeiro|-23.01112|-43.28766|        Entire villa|Entire place|          15|       7| 4500|                 100|                    10|                       10|                   10|                         10|                    10|                 10|    900.0|229229500|   24015238|2020-01-22T00:00|                   1|\n",
      "|   2435260| 12446817|2016-02-21T00:00|               1.0|                f|                        3|                   t|                     f|          Joa|    NULL|Rio de Janeiro|-23.00944|-43.28819|Private room in h...|Private room|           2|       1|  300|                 100|                    10|                       10|                   10|                         10|                    10|                  8|     60.0|539016170|  285808834|2021-09-30T00:00|                   1|\n",
      "|   2186329| 11148144|2016-01-09T00:00|               1.0|                t|                        3|                   t|                     t|          Joa|    NULL|Rio de Janeiro|-23.01059|-43.29514|  Entire guest suite|Entire place|           4|       1|  300|                  99|                    10|                       10|                   10|                         10|                    10|                 10|     60.0|669631192|  174762041|2022-09-30T00:00|                  41|\n",
      "|   2186329| 11148144|2016-01-09T00:00|               1.0|                t|                        3|                   t|                     t|          Joa|    NULL|Rio de Janeiro|-23.01059|-43.29514|  Entire guest suite|Entire place|           4|       1|  300|                  99|                    10|                       10|                   10|                         10|                    10|                 10|     60.0|728033100|   30832051|2023-01-31T00:00|                  41|\n",
      "|    844070|  2422154|2014-05-20T00:00|               1.0|                t|                        4|                   t|                     t|          Joa|    NULL|Rio de Janeiro|-23.01079|-43.29422|    Entire apartment|Entire place|           2|       1|   88|                 100|                    10|                       10|                   10|                         10|                    10|                 10|     17.6|594957269|   94651111|2022-01-19T00:00|                  10|\n",
      "|    844070|  2422154|2014-05-20T00:00|               1.0|                t|                        4|                   t|                     t|          Joa|    NULL|Rio de Janeiro|-23.01079|-43.29422|    Entire apartment|Entire place|           2|       1|   88|                 100|                    10|                       10|                   10|                         10|                    10|                 10|     17.6|726777192|  223063552|2023-01-25T00:00|                  10|\n",
      "|   9746631| 37332403|2017-07-02T00:00|               1.0|                t|                        4|                   t|                     t|          Joa|    NULL|Rio de Janeiro|-23.01167|-43.28888|        Entire house|Entire place|           8|       4| 3500|                  96|                    10|                       10|                   10|                         10|                    10|                  9|    700.0|135832339|   28775542|2019-03-06T00:00|                 104|\n",
      "|   1681354|  8675255|2015-09-06T00:00|               1.0|                t|                        1|                   t|                     t|          Joa|    NULL|Rio de Janeiro|-23.00972|-43.29268|        Entire house|Entire place|           6|       4| 2643|                  99|                    10|                       10|                   10|                         10|                    10|                 10|    528.6|661609171|   68885202|2022-09-07T00:00|                  49|\n",
      "|   1681354|  8675255|2015-09-06T00:00|               1.0|                t|                        1|                   t|                     t|          Joa|    NULL|Rio de Janeiro|-23.00972|-43.29268|        Entire house|Entire place|           6|       4| 2643|                  99|                    10|                       10|                   10|                         10|                    10|                 10|    528.6|194858496|   53851932|2019-09-17T00:00|                  49|\n",
      "+----------+---------+----------------+------------------+-----------------+-------------------------+--------------------+----------------------+-------------+--------+--------------+---------+---------+--------------------+------------+------------+--------+-----+--------------------+----------------------+-------------------------+---------------------+---------------------------+----------------------+-------------------+---------+---------+-----------+----------------+--------------------+\n",
      "only showing top 20 rows\n",
      "\n"
     ]
    }
   ],
   "source": [
    "df.show()"
   ]
  },
  {
   "cell_type": "code",
   "execution_count": 13,
   "id": "02568e3b",
   "metadata": {},
   "outputs": [
    {
     "name": "stderr",
     "output_type": "stream",
     "text": [
      "                                                                                \r"
     ]
    },
    {
     "data": {
      "text/plain": [
       "[Row(listing_id=37200137, host_id=77212938, host_since='2018-06-12T00:00', host_response_rate=1.0, host_is_superhost='t', host_total_listings_count=2, host_has_profile_pic='t', host_identity_verified='t', neighbourhood='Joa', district=None, city='Rio de Janeiro', latitude=-23.01489, longitude=-43.29168, property_type='Entire condominium', room_type='Entire place', accommodates=6, bedrooms=3, price=480, review_scores_rating=100, review_scores_accuracy=10, review_scores_cleanliness=10, review_scores_checkin=10, review_scores_communication=10, review_scores_location=10, review_scores_value=10, price_usd=96.0, review_id=607725284, reviewer_id=107166188, review_date='2022-02-18T00:00', listing_review_count=44)]"
      ]
     },
     "execution_count": 13,
     "metadata": {},
     "output_type": "execute_result"
    }
   ],
   "source": [
    "# Convert price to USD\n",
    "\n",
    "# Conversion rates\n",
    "conversion_rates = {\n",
    "    'Paris': 1.07,\n",
    "    'New York': 1,\n",
    "    'Bangkok': 0.027,\n",
    "    'Rio de Janeiro': 0.20,\n",
    "    'Sydney': 0.65,\n",
    "    'Istanbul': 0.031,\n",
    "    'Rome': 1.07,\n",
    "    'Hong Kong': 0.13,\n",
    "    'Mexico City': 0.060,\n",
    "    'Cape Town': 0.053\n",
    "}\n",
    "\n",
    "# Define a UDF (user-defined function) to calculate the converted price\n",
    "@udf(FloatType())\n",
    "def convert_currency(city, price):\n",
    "    return price * conversion_rates.get(city, 1)\n",
    "\n",
    "# Apply the UDF to create a new column \"price_usd\"\n",
    "df = df.withColumn(\"price_usd\", convert_currency(col(\"city\"), col(\"price\")))\n",
    "\n",
    "# Display the updated dataframe\n",
    "df.head(1)"
   ]
  },
  {
   "cell_type": "code",
   "execution_count": 14,
   "id": "b982b807",
   "metadata": {},
   "outputs": [
    {
     "name": "stdout",
     "output_type": "stream",
     "text": [
      "+----------+--------+----------------+------------------+-----------------+-------------------------+--------------------+----------------------+-------------+--------+--------------+---------+---------+------------------+------------+------------+--------+-----+--------------------+----------------------+-------------------------+---------------------+---------------------------+----------------------+-------------------+---------+---------+-----------+----------------+--------------------+\n",
      "|listing_id| host_id|      host_since|host_response_rate|host_is_superhost|host_total_listings_count|host_has_profile_pic|host_identity_verified|neighbourhood|district|          city| latitude|longitude|     property_type|   room_type|accommodates|bedrooms|price|review_scores_rating|review_scores_accuracy|review_scores_cleanliness|review_scores_checkin|review_scores_communication|review_scores_location|review_scores_value|price_usd|review_id|reviewer_id|     review_date|listing_review_count|\n",
      "+----------+--------+----------------+------------------+-----------------+-------------------------+--------------------+----------------------+-------------+--------+--------------+---------+---------+------------------+------------+------------+--------+-----+--------------------+----------------------+-------------------------+---------------------+---------------------------+----------------------+-------------------+---------+---------+-----------+----------------+--------------------+\n",
      "|  37200137|77212938|2018-06-12T00:00|               1.0|                t|                        2|                   t|                     t|          Joa|    NULL|Rio de Janeiro|-23.01489|-43.29168|Entire condominium|Entire place|           6|       3|  480|                 100|                    10|                       10|                   10|                         10|                    10|                 10|     96.0|607725284|  107166188|2022-02-18T00:00|                  44|\n",
      "|   1792409| 9403945|2015-10-13T00:00|               1.0|                t|                        1|                   t|                     t|          Joa|    NULL|Rio de Janeiro|  -23.014|-43.29163|Entire condominium|Entire place|           8|       4| 1000|                  98|                    10|                        9|                   10|                         10|                    10|                 10|    200.0|570395343|   75206771|2021-11-29T00:00|                  63|\n",
      "|  25533793|25815097|2017-01-08T00:00|               1.0|                t|                        1|                   t|                     t|          Joa|    NULL|Rio de Janeiro|-23.01264|-43.29111|      Entire house|Entire place|          12|       4| 1254|                  98|                    10|                        9|                   10|                         10|                    10|                  9|    250.8|444997299|   39699363|2021-04-28T00:00|                  71|\n",
      "|  25533793|25815097|2017-01-08T00:00|               1.0|                t|                        1|                   t|                     t|          Joa|    NULL|Rio de Janeiro|-23.01264|-43.29111|      Entire house|Entire place|          12|       4| 1254|                  98|                    10|                        9|                   10|                         10|                    10|                  9|    250.8|477091542|   53832258|2021-06-27T00:00|                  71|\n",
      "|  25533793|25815097|2017-01-08T00:00|               1.0|                t|                        1|                   t|                     t|          Joa|    NULL|Rio de Janeiro|-23.01264|-43.29111|      Entire house|Entire place|          12|       4| 1254|                  98|                    10|                        9|                   10|                         10|                    10|                  9|    250.8|350816081|  222597126|2020-11-20T00:00|                  71|\n",
      "+----------+--------+----------------+------------------+-----------------+-------------------------+--------------------+----------------------+-------------+--------+--------------+---------+---------+------------------+------------+------------+--------+-----+--------------------+----------------------+-------------------------+---------------------+---------------------------+----------------------+-------------------+---------+---------+-----------+----------------+--------------------+\n",
      "only showing top 5 rows\n",
      "\n"
     ]
    }
   ],
   "source": [
    "df.show(5)"
   ]
  },
  {
   "cell_type": "code",
   "execution_count": 15,
   "id": "e15ae6fd",
   "metadata": {},
   "outputs": [
    {
     "name": "stderr",
     "output_type": "stream",
     "text": [
      "[Stage 3:=======================================>                   (2 + 1) / 3]\r"
     ]
    },
    {
     "name": "stdout",
     "output_type": "stream",
     "text": [
      "+-----------------+\n",
      "|average_price_usd|\n",
      "+-----------------+\n",
      "|88.78709692960278|\n",
      "+-----------------+\n",
      "\n"
     ]
    },
    {
     "name": "stderr",
     "output_type": "stream",
     "text": [
      "\r",
      "                                                                                \r"
     ]
    }
   ],
   "source": [
    "# Calculate the average price_usd\n",
    "avg_price_usd = df.groupBy().agg(avg('price_usd').alias('average_price_usd'))\n",
    "\n",
    "# Show the result\n",
    "avg_price_usd.show()"
   ]
  },
  {
   "cell_type": "code",
   "execution_count": 17,
   "id": "f7cd70c6",
   "metadata": {},
   "outputs": [
    {
     "name": "stderr",
     "output_type": "stream",
     "text": [
      "                                                                                \r"
     ]
    }
   ],
   "source": [
    "# # Write transformed data back to BigQuery\n",
    "df.write \\\n",
    "    .format(\"bigquery\") \\\n",
    "    .option(\"parentProject\", \"airbnb-de-project\") \\\n",
    "    .option(\"temporaryGcsBucket\", \"airbnb-data-lake\") \\\n",
    "    .option(\"table\", \"airbnb-de-project.airbnb_dw.airbnb_data_spark\") \\\n",
    "    .mode(\"overwrite\") \\\n",
    "    .save()\n"
   ]
  },
  {
   "cell_type": "code",
   "execution_count": 18,
   "id": "92e1ce2b",
   "metadata": {},
   "outputs": [],
   "source": [
    "spark.stop()"
   ]
  },
  {
   "cell_type": "code",
   "execution_count": null,
   "id": "285f1201",
   "metadata": {},
   "outputs": [],
   "source": []
  }
 ],
 "metadata": {
  "kernelspec": {
   "display_name": "Python 3 (ipykernel)",
   "language": "python",
   "name": "python3"
  },
  "language_info": {
   "codemirror_mode": {
    "name": "ipython",
    "version": 3
   },
   "file_extension": ".py",
   "mimetype": "text/x-python",
   "name": "python",
   "nbconvert_exporter": "python",
   "pygments_lexer": "ipython3",
   "version": "3.11.5"
  }
 },
 "nbformat": 4,
 "nbformat_minor": 5
}
